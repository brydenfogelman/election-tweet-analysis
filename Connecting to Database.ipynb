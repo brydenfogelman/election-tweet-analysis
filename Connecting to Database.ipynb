{
 "cells": [
  {
   "cell_type": "markdown",
   "metadata": {},
   "source": [
    "The local database is then moved to an online Mongo storage service, MLab. This will allow us to actively develop using the database simultaneously. The following commands will load the local database to MLab"
   ]
  },
  {
   "cell_type": "raw",
   "metadata": {},
   "source": [
    "Command to create BSON backup of database\n",
    "mongodump  --db election_tweets\n",
    "\n",
    "Command to move BSON file to remote database:\n",
    "mongorestore -h ds1XXXXX.mlab.com:XXXXX -d election_tweets -u username -p password ~/dump/election_tweets/"
   ]
  },
  {
   "cell_type": "markdown",
   "metadata": {},
   "source": [
    "### Example: Connect to the Database\n",
    "\n",
    "This example illustrates how to connect to the MLab database."
   ]
  },
  {
   "cell_type": "code",
   "execution_count": 1,
   "metadata": {
    "collapsed": true
   },
   "outputs": [],
   "source": [
    "import pymongo, pprint\n",
    "from pymongo import MongoClient"
   ]
  },
  {
   "cell_type": "code",
   "execution_count": 2,
   "metadata": {
    "collapsed": true
   },
   "outputs": [],
   "source": [
    "properties = dict(line.strip().split('=') \n",
    "          for line in open('db.properties')\n",
    "          if not line.startswith('#') and not line.startswith('\\n'))"
   ]
  },
  {
   "cell_type": "code",
   "execution_count": 3,
   "metadata": {
    "collapsed": false
   },
   "outputs": [],
   "source": [
    "uri = 'mongodb://%s:%s@ds161487.mlab.com:61487/election_tweets' % (properties['username'], properties['password'])\n",
    "client = MongoClient(uri)"
   ]
  },
  {
   "cell_type": "code",
   "execution_count": 4,
   "metadata": {
    "collapsed": true
   },
   "outputs": [],
   "source": [
    "db = client.election_tweets\n",
    "tweet_collection = db.tweets\n",
    "user_collection = db.users"
   ]
  },
  {
   "cell_type": "code",
   "execution_count": 5,
   "metadata": {
    "collapsed": false
   },
   "outputs": [
    {
     "name": "stdout",
     "output_type": "stream",
     "text": [
      "112717\n",
      "87501\n"
     ]
    }
   ],
   "source": [
    "print tweet_collection.count()\n",
    "print user_collection.count()"
   ]
  },
  {
   "cell_type": "code",
   "execution_count": 6,
   "metadata": {
    "collapsed": false
   },
   "outputs": [
    {
     "name": "stdout",
     "output_type": "stream",
     "text": [
      "{u'_id': 795698143266414592L,\n",
      " u'created_at': u'Mon Nov 07 18:43:15 +0000 2016',\n",
      " u'favorite_count': 0,\n",
      " u'favorited': False,\n",
      " u'hashtags': None,\n",
      " u'in_reply_to_screen_name': None,\n",
      " u'in_reply_to_status_id': None,\n",
      " u'in_reply_to_user_id': None,\n",
      " u'is_quote_status': False,\n",
      " u'place': None,\n",
      " u'query': u'#DonaldTrump OR #HillaryClinton OR Trump OR Clinton OR #Trump OR #Clinton',\n",
      " u'retweet_count': 193,\n",
      " u'retweeted': True,\n",
      " u'retweeted_status': 795671222130540544L,\n",
      " u'root_query': u'#DonaldTrump OR #HillaryClinton OR Trump OR Clinton OR #Trump OR #Clinton',\n",
      " u'symbols': None,\n",
      " u'text': u\"RT @Ethan_Booker: TRUMP: look at this Hillary mask. it's hideous! just like her sou--\\nAIDE: *whispers in ear*\\nTRUMP: this mask is beautiful\\u2026\",\n",
      " u'user': {u'_id': 1653419318,\n",
      "           u'created_at': u'Wed Aug 07 17:03:23 +0000 2013',\n",
      "           u'description': u'#BlackLivesMatter #Clinton2016',\n",
      "           u'favourites_count': 14108,\n",
      "           u'followers_count': 2640,\n",
      "           u'following': False,\n",
      "           u'friends_count': 270,\n",
      "           u'location': u'',\n",
      "           u'name': u'ALL HAIL \\U0001f451 HILLARY',\n",
      "           u'screen_name': u'Sttephy',\n",
      "           u'statuses_count': 117152,\n",
      "           u'verified': False},\n",
      " u'user_mentions': [{u'_id': 19955411,\n",
      "                     u'indices': [3, 16],\n",
      "                     u'screen_name': u'Ethan_Booker'}]}\n"
     ]
    }
   ],
   "source": [
    "cur = tweet_collection.find_one()\n",
    "pprint.pprint(cur)"
   ]
  },
  {
   "cell_type": "markdown",
   "metadata": {
    "collapsed": true
   },
   "source": [
    "### Example Queries"
   ]
  },
  {
   "cell_type": "code",
   "execution_count": 8,
   "metadata": {
    "collapsed": false
   },
   "outputs": [
    {
     "name": "stdout",
     "output_type": "stream",
     "text": [
      "71370\n"
     ]
    }
   ],
   "source": [
    "cur = tweet_collection.find({'retweeted_status': None})\n",
    "\n",
    "print cur.count()"
   ]
  },
  {
   "cell_type": "code",
   "execution_count": 10,
   "metadata": {
    "collapsed": false
   },
   "outputs": [
    {
     "name": "stdout",
     "output_type": "stream",
     "text": [
      "0\n",
      "0\n"
     ]
    }
   ],
   "source": [
    "cur = tweet_collection.find({'query': {'$exists': True}})\n",
    "\n",
    "print cur.count() - tweet_collection.count()\n",
    "\n",
    "cur = tweet_collection.find({'query': None})\n",
    "\n",
    "print cur.count()"
   ]
  },
  {
   "cell_type": "code",
   "execution_count": 12,
   "metadata": {
    "collapsed": false
   },
   "outputs": [
    {
     "name": "stdout",
     "output_type": "stream",
     "text": [
      "0\n"
     ]
    }
   ],
   "source": [
    "cur = tweet_collection.find({'symbol': None})\n",
    "\n",
    "print cur.count()- tweet_collection.count()"
   ]
  },
  {
   "cell_type": "code",
   "execution_count": 13,
   "metadata": {
    "collapsed": false
   },
   "outputs": [
    {
     "name": "stdout",
     "output_type": "stream",
     "text": [
      "41468\n"
     ]
    }
   ],
   "source": [
    "cur = tweet_collection.find({'place': {'$ne': None}})\n",
    "\n",
    "print cur.count()"
   ]
  }
 ],
 "metadata": {
  "kernelspec": {
   "display_name": "Python [Root]",
   "language": "python",
   "name": "Python [Root]"
  },
  "language_info": {
   "codemirror_mode": {
    "name": "ipython",
    "version": 2
   },
   "file_extension": ".py",
   "mimetype": "text/x-python",
   "name": "python",
   "nbconvert_exporter": "python",
   "pygments_lexer": "ipython2",
   "version": "2.7.12"
  }
 },
 "nbformat": 4,
 "nbformat_minor": 0
}
