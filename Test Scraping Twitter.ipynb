{
 "cells": [
  {
   "cell_type": "code",
   "execution_count": 1,
   "metadata": {
    "collapsed": false
   },
   "outputs": [],
   "source": [
    "import tweepy\n",
    "import json\n",
    "import time\n",
    "import datetime\n",
    "import os"
   ]
  },
  {
   "cell_type": "code",
   "execution_count": 2,
   "metadata": {
    "collapsed": false
   },
   "outputs": [],
   "source": [
    "# 180 request / 15 mins window\n",
    "\n",
    "properties = dict(line.strip().split('=') \n",
    "          for line in open('jo.properties') \n",
    "          if not line.startswith('#') and not line.startswith('\\n'))\n",
    "\n",
    "auth = tweepy.OAuthHandler(properties[\"CONSUMER_KEY\"], properties[\"CONSUMER_SECRET\"])\n",
    "auth.set_access_token(properties[\"OAUTH_TOKEN\"], properties[\"OAUTH_TOKEN_SECRET\"])\n",
    "api = tweepy.API(auth)"
   ]
  },
  {
   "cell_type": "code",
   "execution_count": 3,
   "metadata": {
    "collapsed": false,
    "scrolled": false
   },
   "outputs": [],
   "source": [
    "QUERIES_DIR = 'queries/'\n",
    "\n",
    "\n",
    "def save_tweets(query, tweets_container, directory=None):\n",
    "    if tweets_container:\n",
    "        current_time = datetime.datetime.now()\n",
    "        query_dir = QUERIES_DIR + query + '/'\n",
    "        if directory:\n",
    "            query_dir += directory + '/'\n",
    "\n",
    "        if not os.path.exists(query_dir):\n",
    "            os.makedirs(query_dir)\n",
    "\n",
    "        with open(query_dir + current_time.isoformat() + '.json', 'w') as f:\n",
    "            json.dump(tweets_container, f)\n",
    "\n",
    "\n",
    "def get_tweets(query, limit):\n",
    "    tweets_container = {}\n",
    "    \n",
    "    # Code retrieved from\n",
    "    # https://github.com/tweepy/tweepy/issues/197\n",
    "    # I believe the count=100 is unessecary in our case\n",
    "    #\n",
    "    #\n",
    "    # Cursor params are passed to the method (ex.api.search)\n",
    "    # Cursor will alow as to continue to retrieve tweets without worrying about hitting a page limit\n",
    "    #\n",
    "    # api.search arguments are:\n",
    "    #\n",
    "    #     :reference: https://dev.twitter.com/rest/reference/get/search/tweets\n",
    "    #     :allowed_param:'q', 'lang', 'locale', 'since_id', 'geocode',\n",
    "    #      'max_id', 'since', 'until', 'result_type', 'count',\n",
    "    #       'include_entities', 'from', 'to', 'source']\n",
    "    #\n",
    "    # To handle the rate limit:\n",
    "    # # http://docs.tweepy.org/en/v3.5.0/code_snippet.html#handling-the-rate-limit-using-cursors\n",
    "\n",
    "    def limit_handled(cursor, query):\n",
    "        while True:\n",
    "            try:\n",
    "                yield cursor.next()\n",
    "\n",
    "            #except tweepy.RateLimitError as e:\n",
    "            # I think RateLimitError was depreceated, need to find the new one\n",
    "            except StopIteration as e:\n",
    "                print \"StopIteration for %s\" % query\n",
    "                yield None\n",
    "            except Exception as e:\n",
    "                print \"Rate Limit Error for %s: %s\" % (query, e)\n",
    "                # can handle in any way we want\n",
    "                #time.sleep(15 * 60)\n",
    "                yield None\n",
    "    \n",
    "\n",
    "    tweepy_cursor = tweepy.Cursor(api.search,\n",
    "                                q=query,\n",
    "                                count=100, # I think the correct param is rpp (but nvm it returns 100)\n",
    "                                #result_type=\"recent\", # We don't get enough results with this on\n",
    "                                include_entities=True,\n",
    "                                lang=\"en\")   \n",
    "    size = 0 \n",
    "    for tweet in limit_handled(tweepy_cursor.items(), query):\n",
    "        if not tweet:\n",
    "            break\n",
    "        # converting tweet to json\n",
    "        tweet_json = json.dumps(tweet._json)\n",
    "        tweet_json = json.loads(tweet_json)\n",
    "        # To be able to retrieve the query later on\n",
    "        tweet_json[\"from_query\"] = query\n",
    "        tweets_container[tweet_json['id']] = tweet_json\n",
    "\n",
    "        # Test how many tweets we can store\n",
    "        size = len(tweets_container.keys())\n",
    "        if size >= limit:\n",
    "            break\n",
    "    \n",
    "    print \"Number of results: %d\" % size\n",
    "    return tweets_container\n",
    "\n",
    "def get_and_save_tweets(since=None, until=None):\n",
    "    # Example Query\n",
    "    queries = [\"#DonaldTrump OR #HillaryClinton OR Trump OR Clinton OR #Trump OR #Clinton\",   \n",
    "               ]\n",
    "    places = {\"USA\": \"96683cc9126741d1\", \"Canada\": \"3376992a082d67c7\", \"France\": \"f3bfc7dcc928977f\", \"Denmark\": \"c29833e68a86e703\",\n",
    "             \"Mexico\": \"25530ba03b7d90c6\", \"Brazil\": \"1b107df3ccc0aaa1\", \"Germany\": \"fdcd221ac44fa326\", \"China\": \"4797714c95971ac1\",\n",
    "             \"UK\": \"6416b8512febefc9\", \"Russia\": \"5714382051c06d1e\", \"Panama\": \"9d8ae4b0fac2036a\", \"Australia\": \"3f14ce28dc7c4566\",\n",
    "             \"Sweden\": \"82b141af443cb1b8\", \"India\": \"b850c1bfd38f30e0\", \"UAE\": \"3f63906fc8aa5a7d\", \"South Africa\": \"dd9c0d7d7e07eb49\",\n",
    "             }\n",
    "\n",
    "    nb_queries_per_search_term = len(places) + 1\n",
    "    nb_queries_total = len(queries) * nb_queries_per_search_term\n",
    "\n",
    "    print nb_queries_total\n",
    "\n",
    "    nb_results_per_query = 100\n",
    "\n",
    "    print \"Number of tweets we can at maximum have : %d\" % (nb_queries_total * nb_results_per_query)\n",
    "\n",
    "    limit = (180 / nb_queries_total) * nb_results_per_query\n",
    "    # Somehow we are ratelimited before, so use a bias to lower the number of queries\n",
    "    limit /= 1.5\n",
    "    \n",
    "    print \"Expected number of queries : %d\" % (nb_queries_total * (limit/nb_results_per_query))\n",
    "\n",
    "    for original_query in queries:\n",
    "        query = original_query\n",
    "        directory = None\n",
    "        \n",
    "        if since and until:\n",
    "            query += \" since:\" + since + \" until:\" + until\n",
    "            directory = since + \"-\" + until\n",
    "            \n",
    "        print query \n",
    "        tweets_container = get_tweets(query, limit=limit)\n",
    "            \n",
    "        save_tweets(original_query, tweets_container, directory=directory)\n",
    "        \n",
    "        original_dir = directory\n",
    "        \n",
    "        for country, place_id in places.iteritems():\n",
    "            print query, country\n",
    "            query_place = \"%s place:%s\" % (query, place_id)\n",
    "            tweets_container = get_tweets(query_place, limit=limit)\n",
    "            \n",
    "            if not tweets_container:\n",
    "                print \"No results for %s\" % query_place\n",
    "            else:\n",
    "                if original_dir:\n",
    "                    directory = original_dir + '/' + country\n",
    "                else:\n",
    "                    directory = country\n",
    "                    \n",
    "                save_tweets(original_query, tweets_container, directory=directory)"
   ]
  },
  {
   "cell_type": "code",
   "execution_count": 18,
   "metadata": {
    "collapsed": false
   },
   "outputs": [
    {
     "name": "stdout",
     "output_type": "stream",
     "text": [
      "51\n",
      "5100\n",
      "#DonaldTrump OR #HillaryClinton OR Trump OR Clinton OR #Trump OR #Clinton since:2016-11-1 until:2016-11-2\n",
      "Number of results: 300\n",
      "#DonaldTrump OR #HillaryClinton OR Trump OR Clinton OR #Trump OR #Clinton since:2016-11-1 until:2016-11-2 Canada\n",
      "Number of results: 300\n",
      "#DonaldTrump OR #HillaryClinton OR Trump OR Clinton OR #Trump OR #Clinton since:2016-11-1 until:2016-11-2 Brazil\n",
      "StopIteration for #DonaldTrump OR #HillaryClinton OR Trump OR Clinton OR #Trump OR #Clinton since:2016-11-1 until:2016-11-2 place:1b107df3ccc0aaa1\n",
      "Number of results: 45\n",
      "#DonaldTrump OR #HillaryClinton OR Trump OR Clinton OR #Trump OR #Clinton since:2016-11-1 until:2016-11-2 Australia\n",
      "StopIteration for #DonaldTrump OR #HillaryClinton OR Trump OR Clinton OR #Trump OR #Clinton since:2016-11-1 until:2016-11-2 place:3f14ce28dc7c4566\n",
      "Number of results: 229\n",
      "#DonaldTrump OR #HillaryClinton OR Trump OR Clinton OR #Trump OR #Clinton since:2016-11-1 until:2016-11-2 USA\n",
      "Number of results: 300\n",
      "#DonaldTrump OR #HillaryClinton OR Trump OR Clinton OR #Trump OR #Clinton since:2016-11-1 until:2016-11-2 Mexico\n",
      "StopIteration for #DonaldTrump OR #HillaryClinton OR Trump OR Clinton OR #Trump OR #Clinton since:2016-11-1 until:2016-11-2 place:25530ba03b7d90c6\n",
      "Number of results: 78\n",
      "#DonaldTrump OR #HillaryClinton OR Trump OR Clinton OR #Trump OR #Clinton since:2016-11-1 until:2016-11-2 Denmark\n",
      "StopIteration for #DonaldTrump OR #HillaryClinton OR Trump OR Clinton OR #Trump OR #Clinton since:2016-11-1 until:2016-11-2 place:c29833e68a86e703\n",
      "Number of results: 22\n",
      "#DonaldTrump OR #HillaryClinton OR Trump OR Clinton OR #Trump OR #Clinton since:2016-11-1 until:2016-11-2 Panama\n",
      "StopIteration for #DonaldTrump OR #HillaryClinton OR Trump OR Clinton OR #Trump OR #Clinton since:2016-11-1 until:2016-11-2 place:9d8ae4b0fac2036a\n",
      "Number of results: 7\n",
      "#DonaldTrump OR #HillaryClinton OR Trump OR Clinton OR #Trump OR #Clinton since:2016-11-1 until:2016-11-2 South Africa\n",
      "StopIteration for #DonaldTrump OR #HillaryClinton OR Trump OR Clinton OR #Trump OR #Clinton since:2016-11-1 until:2016-11-2 place:dd9c0d7d7e07eb49\n",
      "Number of results: 45\n",
      "#DonaldTrump OR #HillaryClinton OR Trump OR Clinton OR #Trump OR #Clinton since:2016-11-1 until:2016-11-2 India\n",
      "StopIteration for #DonaldTrump OR #HillaryClinton OR Trump OR Clinton OR #Trump OR #Clinton since:2016-11-1 until:2016-11-2 place:b850c1bfd38f30e0\n",
      "Number of results: 183\n",
      "#DonaldTrump OR #HillaryClinton OR Trump OR Clinton OR #Trump OR #Clinton since:2016-11-1 until:2016-11-2 France\n",
      "StopIteration for #DonaldTrump OR #HillaryClinton OR Trump OR Clinton OR #Trump OR #Clinton since:2016-11-1 until:2016-11-2 place:f3bfc7dcc928977f\n",
      "Number of results: 72\n",
      "#DonaldTrump OR #HillaryClinton OR Trump OR Clinton OR #Trump OR #Clinton since:2016-11-1 until:2016-11-2 Sweden\n",
      "StopIteration for #DonaldTrump OR #HillaryClinton OR Trump OR Clinton OR #Trump OR #Clinton since:2016-11-1 until:2016-11-2 place:82b141af443cb1b8\n",
      "Number of results: 59\n",
      "#DonaldTrump OR #HillaryClinton OR Trump OR Clinton OR #Trump OR #Clinton since:2016-11-1 until:2016-11-2 Germany\n",
      "StopIteration for #DonaldTrump OR #HillaryClinton OR Trump OR Clinton OR #Trump OR #Clinton since:2016-11-1 until:2016-11-2 place:fdcd221ac44fa326\n",
      "Number of results: 99\n",
      "#DonaldTrump OR #HillaryClinton OR Trump OR Clinton OR #Trump OR #Clinton since:2016-11-1 until:2016-11-2 UK\n",
      "Number of results: 300\n",
      "#DonaldTrump OR #HillaryClinton OR Trump OR Clinton OR #Trump OR #Clinton since:2016-11-1 until:2016-11-2 China\n",
      "StopIteration for #DonaldTrump OR #HillaryClinton OR Trump OR Clinton OR #Trump OR #Clinton since:2016-11-1 until:2016-11-2 place:4797714c95971ac1\n",
      "Number of results: 13\n",
      "#DonaldTrump OR #HillaryClinton OR Trump OR Clinton OR #Trump OR #Clinton since:2016-11-1 until:2016-11-2 UAE\n",
      "StopIteration for #DonaldTrump OR #HillaryClinton OR Trump OR Clinton OR #Trump OR #Clinton since:2016-11-1 until:2016-11-2 place:3f63906fc8aa5a7d\n",
      "Number of results: 20\n",
      "#DonaldTrump OR #HillaryClinton OR Trump OR Clinton OR #Trump OR #Clinton since:2016-11-1 until:2016-11-2 Russia\n",
      "StopIteration for #DonaldTrump OR #HillaryClinton OR Trump OR Clinton OR #Trump OR #Clinton since:2016-11-1 until:2016-11-2 place:5714382051c06d1e\n",
      "Number of results: 14\n",
      "#Elections2016 OR #ElectionDay since:2016-11-1 until:2016-11-2\n",
      "Number of results: 300\n",
      "#Elections2016 OR #ElectionDay since:2016-11-1 until:2016-11-2 Canada\n",
      "StopIteration for #Elections2016 OR #ElectionDay since:2016-11-1 until:2016-11-2 place:3376992a082d67c7\n",
      "Number of results: 14\n",
      "#Elections2016 OR #ElectionDay since:2016-11-1 until:2016-11-2 Brazil\n",
      "StopIteration for #Elections2016 OR #ElectionDay since:2016-11-1 until:2016-11-2 place:1b107df3ccc0aaa1\n",
      "Number of results: 0\n",
      "No results for #Elections2016 OR #ElectionDay since:2016-11-1 until:2016-11-2 place:1b107df3ccc0aaa1\n",
      "#Elections2016 OR #ElectionDay since:2016-11-1 until:2016-11-2 Australia\n",
      "StopIteration for #Elections2016 OR #ElectionDay since:2016-11-1 until:2016-11-2 place:3f14ce28dc7c4566\n",
      "Number of results: 1\n",
      "#Elections2016 OR #ElectionDay since:2016-11-1 until:2016-11-2 USA\n",
      "Number of results: 300\n",
      "#Elections2016 OR #ElectionDay since:2016-11-1 until:2016-11-2 Mexico\n",
      "StopIteration for #Elections2016 OR #ElectionDay since:2016-11-1 until:2016-11-2 place:25530ba03b7d90c6\n",
      "Number of results: 1\n",
      "#Elections2016 OR #ElectionDay since:2016-11-1 until:2016-11-2 Denmark\n",
      "StopIteration for #Elections2016 OR #ElectionDay since:2016-11-1 until:2016-11-2 place:c29833e68a86e703\n",
      "Number of results: 0\n",
      "No results for #Elections2016 OR #ElectionDay since:2016-11-1 until:2016-11-2 place:c29833e68a86e703\n",
      "#Elections2016 OR #ElectionDay since:2016-11-1 until:2016-11-2 Panama\n",
      "StopIteration for #Elections2016 OR #ElectionDay since:2016-11-1 until:2016-11-2 place:9d8ae4b0fac2036a\n",
      "Number of results: 0\n",
      "No results for #Elections2016 OR #ElectionDay since:2016-11-1 until:2016-11-2 place:9d8ae4b0fac2036a\n",
      "#Elections2016 OR #ElectionDay since:2016-11-1 until:2016-11-2 South Africa\n",
      "StopIteration for #Elections2016 OR #ElectionDay since:2016-11-1 until:2016-11-2 place:dd9c0d7d7e07eb49\n",
      "Number of results: 1\n",
      "#Elections2016 OR #ElectionDay since:2016-11-1 until:2016-11-2 India\n",
      "StopIteration for #Elections2016 OR #ElectionDay since:2016-11-1 until:2016-11-2 place:b850c1bfd38f30e0\n",
      "Number of results: 0\n",
      "No results for #Elections2016 OR #ElectionDay since:2016-11-1 until:2016-11-2 place:b850c1bfd38f30e0\n",
      "#Elections2016 OR #ElectionDay since:2016-11-1 until:2016-11-2 France\n",
      "StopIteration for #Elections2016 OR #ElectionDay since:2016-11-1 until:2016-11-2 place:f3bfc7dcc928977f\n",
      "Number of results: 0\n",
      "No results for #Elections2016 OR #ElectionDay since:2016-11-1 until:2016-11-2 place:f3bfc7dcc928977f\n",
      "#Elections2016 OR #ElectionDay since:2016-11-1 until:2016-11-2 Sweden\n",
      "StopIteration for #Elections2016 OR #ElectionDay since:2016-11-1 until:2016-11-2 place:82b141af443cb1b8\n",
      "Number of results: 0\n",
      "No results for #Elections2016 OR #ElectionDay since:2016-11-1 until:2016-11-2 place:82b141af443cb1b8\n",
      "#Elections2016 OR #ElectionDay since:2016-11-1 until:2016-11-2 Germany\n",
      "StopIteration for #Elections2016 OR #ElectionDay since:2016-11-1 until:2016-11-2 place:fdcd221ac44fa326\n",
      "Number of results: 1\n",
      "#Elections2016 OR #ElectionDay since:2016-11-1 until:2016-11-2 UK\n",
      "StopIteration for #Elections2016 OR #ElectionDay since:2016-11-1 until:2016-11-2 place:6416b8512febefc9\n",
      "Number of results: 11\n",
      "#Elections2016 OR #ElectionDay since:2016-11-1 until:2016-11-2 China\n",
      "StopIteration for #Elections2016 OR #ElectionDay since:2016-11-1 until:2016-11-2 place:4797714c95971ac1\n",
      "Number of results: 0\n",
      "No results for #Elections2016 OR #ElectionDay since:2016-11-1 until:2016-11-2 place:4797714c95971ac1\n",
      "#Elections2016 OR #ElectionDay since:2016-11-1 until:2016-11-2 UAE\n",
      "StopIteration for #Elections2016 OR #ElectionDay since:2016-11-1 until:2016-11-2 place:3f63906fc8aa5a7d\n",
      "Number of results: 0\n",
      "No results for #Elections2016 OR #ElectionDay since:2016-11-1 until:2016-11-2 place:3f63906fc8aa5a7d\n",
      "#Elections2016 OR #ElectionDay since:2016-11-1 until:2016-11-2 Russia\n",
      "StopIteration for #Elections2016 OR #ElectionDay since:2016-11-1 until:2016-11-2 place:5714382051c06d1e\n",
      "Number of results: 0\n",
      "No results for #Elections2016 OR #ElectionDay since:2016-11-1 until:2016-11-2 place:5714382051c06d1e\n",
      "#ElectionFinalThoughts since:2016-11-1 until:2016-11-2\n",
      "StopIteration for #ElectionFinalThoughts since:2016-11-1 until:2016-11-2\n",
      "Number of results: 0\n",
      "#ElectionFinalThoughts since:2016-11-1 until:2016-11-2 Canada\n",
      "StopIteration for #ElectionFinalThoughts since:2016-11-1 until:2016-11-2 place:3376992a082d67c7\n",
      "Number of results: 0\n",
      "No results for #ElectionFinalThoughts since:2016-11-1 until:2016-11-2 place:3376992a082d67c7\n",
      "#ElectionFinalThoughts since:2016-11-1 until:2016-11-2 Brazil\n",
      "StopIteration for #ElectionFinalThoughts since:2016-11-1 until:2016-11-2 place:1b107df3ccc0aaa1\n",
      "Number of results: 0\n",
      "No results for #ElectionFinalThoughts since:2016-11-1 until:2016-11-2 place:1b107df3ccc0aaa1\n",
      "#ElectionFinalThoughts since:2016-11-1 until:2016-11-2 Australia\n",
      "StopIteration for #ElectionFinalThoughts since:2016-11-1 until:2016-11-2 place:3f14ce28dc7c4566\n",
      "Number of results: 0\n",
      "No results for #ElectionFinalThoughts since:2016-11-1 until:2016-11-2 place:3f14ce28dc7c4566\n",
      "#ElectionFinalThoughts since:2016-11-1 until:2016-11-2 USA\n",
      "StopIteration for #ElectionFinalThoughts since:2016-11-1 until:2016-11-2 place:96683cc9126741d1\n",
      "Number of results: 0\n",
      "No results for #ElectionFinalThoughts since:2016-11-1 until:2016-11-2 place:96683cc9126741d1\n",
      "#ElectionFinalThoughts since:2016-11-1 until:2016-11-2 Mexico\n",
      "StopIteration for #ElectionFinalThoughts since:2016-11-1 until:2016-11-2 place:25530ba03b7d90c6\n",
      "Number of results: 0\n",
      "No results for #ElectionFinalThoughts since:2016-11-1 until:2016-11-2 place:25530ba03b7d90c6\n",
      "#ElectionFinalThoughts since:2016-11-1 until:2016-11-2 Denmark\n",
      "StopIteration for #ElectionFinalThoughts since:2016-11-1 until:2016-11-2 place:c29833e68a86e703\n",
      "Number of results: 0\n",
      "No results for #ElectionFinalThoughts since:2016-11-1 until:2016-11-2 place:c29833e68a86e703\n",
      "#ElectionFinalThoughts since:2016-11-1 until:2016-11-2 Panama\n",
      "StopIteration for #ElectionFinalThoughts since:2016-11-1 until:2016-11-2 place:9d8ae4b0fac2036a\n",
      "Number of results: 0\n",
      "No results for #ElectionFinalThoughts since:2016-11-1 until:2016-11-2 place:9d8ae4b0fac2036a\n",
      "#ElectionFinalThoughts since:2016-11-1 until:2016-11-2 South Africa\n",
      "StopIteration for #ElectionFinalThoughts since:2016-11-1 until:2016-11-2 place:dd9c0d7d7e07eb49\n",
      "Number of results: 0\n",
      "No results for #ElectionFinalThoughts since:2016-11-1 until:2016-11-2 place:dd9c0d7d7e07eb49\n",
      "#ElectionFinalThoughts since:2016-11-1 until:2016-11-2 India\n",
      "StopIteration for #ElectionFinalThoughts since:2016-11-1 until:2016-11-2 place:b850c1bfd38f30e0\n",
      "Number of results: 0\n",
      "No results for #ElectionFinalThoughts since:2016-11-1 until:2016-11-2 place:b850c1bfd38f30e0\n",
      "#ElectionFinalThoughts since:2016-11-1 until:2016-11-2 France\n",
      "StopIteration for #ElectionFinalThoughts since:2016-11-1 until:2016-11-2 place:f3bfc7dcc928977f\n",
      "Number of results: 0\n",
      "No results for #ElectionFinalThoughts since:2016-11-1 until:2016-11-2 place:f3bfc7dcc928977f\n",
      "#ElectionFinalThoughts since:2016-11-1 until:2016-11-2 Sweden\n",
      "StopIteration for #ElectionFinalThoughts since:2016-11-1 until:2016-11-2 place:82b141af443cb1b8\n",
      "Number of results: 0\n",
      "No results for #ElectionFinalThoughts since:2016-11-1 until:2016-11-2 place:82b141af443cb1b8\n",
      "#ElectionFinalThoughts since:2016-11-1 until:2016-11-2 Germany\n",
      "StopIteration for #ElectionFinalThoughts since:2016-11-1 until:2016-11-2 place:fdcd221ac44fa326\n",
      "Number of results: 0\n",
      "No results for #ElectionFinalThoughts since:2016-11-1 until:2016-11-2 place:fdcd221ac44fa326\n",
      "#ElectionFinalThoughts since:2016-11-1 until:2016-11-2 UK\n",
      "StopIteration for #ElectionFinalThoughts since:2016-11-1 until:2016-11-2 place:6416b8512febefc9\n",
      "Number of results: 0\n",
      "No results for #ElectionFinalThoughts since:2016-11-1 until:2016-11-2 place:6416b8512febefc9\n",
      "#ElectionFinalThoughts since:2016-11-1 until:2016-11-2 China\n",
      "StopIteration for #ElectionFinalThoughts since:2016-11-1 until:2016-11-2 place:4797714c95971ac1\n",
      "Number of results: 0\n",
      "No results for #ElectionFinalThoughts since:2016-11-1 until:2016-11-2 place:4797714c95971ac1\n",
      "#ElectionFinalThoughts since:2016-11-1 until:2016-11-2 UAE\n",
      "StopIteration for #ElectionFinalThoughts since:2016-11-1 until:2016-11-2 place:3f63906fc8aa5a7d\n",
      "Number of results: 0\n",
      "No results for #ElectionFinalThoughts since:2016-11-1 until:2016-11-2 place:3f63906fc8aa5a7d\n",
      "#ElectionFinalThoughts since:2016-11-1 until:2016-11-2 Russia\n",
      "StopIteration for #ElectionFinalThoughts since:2016-11-1 until:2016-11-2 place:5714382051c06d1e\n",
      "Number of results: 0\n",
      "No results for #ElectionFinalThoughts since:2016-11-1 until:2016-11-2 place:5714382051c06d1e\n"
     ]
    }
   ],
   "source": [
    "since = \"2016-11-16\"\n",
    "until = \"2016-11-17\"\n",
    "get_and_save_tweets(since=since, until=until)\n",
    "\n",
    "# get_and_save_tweets()"
   ]
  },
  {
   "cell_type": "code",
   "execution_count": 6,
   "metadata": {
    "collapsed": false
   },
   "outputs": [
    {
     "name": "stdout",
     "output_type": "stream",
     "text": [
      "[(795576391647444992, {u'contributors': None, u'truncated': False, u'text': u'RT @OnlineMagazin: \\U0001f198\\u203c\\ufe0f\\U0001f602\\U0001f525 Do not be fooled!!! Not even with free concert and celebrities like Jay-Z and Beyonce... #HillaryClinton can not f\\u2026', u'is_quote_status': False, u'in_reply_to_status_id': None, u'id': 795576391647444992, u'favorite_count': 0, u'source': u'<a href=\"http://twitter.com/download/android\" rel=\"nofollow\">Twitter for Android</a>', u'retweeted': False, u'coordinates': None, u'entities': {u'symbols': [], u'user_mentions': [{u'indices': [3, 17], u'screen_name': u'OnlineMagazin', u'id': 113987669, u'name': u'Onlinemagazin', u'id_str': u'113987669'}], u'hashtags': [{u'indices': [114, 129], u'text': u'HillaryClinton'}], u'urls': []}, u'in_reply_to_screen_name': None, u'id_str': u'795576391647444992', u'retweet_count': 31, u'in_reply_to_user_id': None, u'favorited': False, u'retweeted_status': {u'contributors': None, u'truncated': True, u'text': u'\\U0001f198\\u203c\\ufe0f\\U0001f602\\U0001f525 Do not be fooled!!! Not even with free concert and celebrities like Jay-Z and Beyonce... #HillaryClinton can\\u2026 https://t.co/9ett9AUuiK', u'is_quote_status': False, u'in_reply_to_status_id': None, u'id': 795565364390281216, u'favorite_count': 15, u'source': u'<a href=\"http://twitter.com\" rel=\"nofollow\">Twitter Web Client</a>', u'retweeted': False, u'coordinates': None, u'entities': {u'symbols': [], u'user_mentions': [], u'hashtags': [{u'indices': [95, 110], u'text': u'HillaryClinton'}], u'urls': [{u'url': u'https://t.co/9ett9AUuiK', u'indices': [116, 139], u'expanded_url': u'https://twitter.com/i/web/status/795565364390281216', u'display_url': u'twitter.com/i/web/status/7\\u2026'}]}, u'in_reply_to_screen_name': None, u'id_str': u'795565364390281216', u'retweet_count': 31, u'in_reply_to_user_id': None, u'favorited': False, u'user': {u'follow_request_sent': False, u'has_extended_profile': False, u'profile_use_background_image': False, u'time_zone': u'Bern', u'id': 113987669, u'default_profile': False, u'verified': False, u'profile_text_color': u'333333', u'profile_image_url_https': u'https://pbs.twimg.com/profile_images/656622334833504256/LY5orDjL_normal.jpg', u'profile_sidebar_fill_color': u'DDFFCC', u'is_translator': False, u'geo_enabled': False, u'entities': {u'url': {u'urls': [{u'url': u'http://t.co/dpyphGTeT6', u'indices': [0, 22], u'expanded_url': u'http://www.artikelmagazin.de', u'display_url': u'artikelmagazin.de'}]}, u'description': {u'urls': [{u'url': u'http://t.co/PR8yWK5VUJ', u'indices': [56, 78], u'expanded_url': u'http://www.artikelmagazin.de/impressum/', u'display_url': u'artikelmagazin.de/impressum/'}]}}, u'followers_count': 44439, u'protected': False, u'id_str': u'113987669', u'default_profile_image': False, u'listed_count': 687, u'lang': u'de', u'utc_offset': 3600, u'statuses_count': 62354, u'description': u'Viele interessante Themen im Onlinemagazin.\\r\\nImpressum: http://t.co/PR8yWK5VUJ', u'friends_count': 124, u'profile_link_color': u'0084B4', u'profile_image_url': u'http://pbs.twimg.com/profile_images/656622334833504256/LY5orDjL_normal.jpg', u'notifications': False, u'profile_background_image_url_https': u'https://abs.twimg.com/images/themes/theme16/bg.gif', u'profile_background_color': u'85291D', u'profile_banner_url': u'https://pbs.twimg.com/profile_banners/113987669/1453398138', u'profile_background_image_url': u'http://abs.twimg.com/images/themes/theme16/bg.gif', u'name': u'Onlinemagazin', u'is_translation_enabled': False, u'profile_background_tile': False, u'favourites_count': 94124, u'screen_name': u'OnlineMagazin', u'url': u'http://t.co/dpyphGTeT6', u'created_at': u'Sat Feb 13 18:20:12 +0000 2010', u'contributors_enabled': False, u'location': u'Lissabon, Portugal', u'profile_sidebar_border_color': u'FFFFFF', u'translator_type': u'none', u'following': False}, u'geo': None, u'in_reply_to_user_id_str': None, u'possibly_sensitive': False, u'lang': u'en', u'created_at': u'Mon Nov 07 09:55:38 +0000 2016', u'in_reply_to_status_id_str': None, u'place': None, u'metadata': {u'iso_language_code': u'en', u'result_type': u'recent'}}, u'user': {u'follow_request_sent': False, u'has_extended_profile': False, u'profile_use_background_image': True, u'time_zone': u'Pacific Time (US & Canada)', u'id': 703680092468342785, u'default_profile': True, u'verified': False, u'profile_text_color': u'333333', u'profile_image_url_https': u'https://pbs.twimg.com/profile_images/784080754301145088/W_jD0oH7_normal.jpg', u'profile_sidebar_fill_color': u'DDEEF6', u'is_translator': False, u'geo_enabled': False, u'entities': {u'description': {u'urls': []}}, u'followers_count': 84, u'protected': False, u'id_str': u'703680092468342785', u'default_profile_image': False, u'listed_count': 13, u'lang': u'de', u'utc_offset': -28800, u'statuses_count': 7506, u'description': u'\\xabDie multikulturelle Gesellschaft ist eine Illusion von Intellektuellen\\xbb', u'friends_count': 132, u'profile_link_color': u'1DA1F2', u'profile_image_url': u'http://pbs.twimg.com/profile_images/784080754301145088/W_jD0oH7_normal.jpg', u'notifications': False, u'profile_background_image_url_https': None, u'profile_background_color': u'F5F8FA', u'profile_banner_url': u'https://pbs.twimg.com/profile_banners/703680092468342785/1475774503', u'profile_background_image_url': None, u'name': u'Vic Boss', u'is_translation_enabled': False, u'profile_background_tile': False, u'favourites_count': 5749, u'screen_name': u'VicBossX', u'url': None, u'created_at': u'Sat Feb 27 20:36:22 +0000 2016', u'contributors_enabled': False, u'location': u'', u'profile_sidebar_border_color': u'C0DEED', u'translator_type': u'none', u'following': False}, u'geo': None, u'in_reply_to_user_id_str': None, u'lang': u'en', u'created_at': u'Mon Nov 07 10:39:27 +0000 2016', u'in_reply_to_status_id_str': None, u'place': None, u'metadata': {u'iso_language_code': u'en', u'result_type': u'recent'}})]\n"
     ]
    }
   ],
   "source": [
    "print [(tweet_id, content) for tweet_id, content in tweets_container.iteritems()][:2]"
   ]
  },
  {
   "cell_type": "code",
   "execution_count": 30,
   "metadata": {
    "collapsed": false
   },
   "outputs": [],
   "source": [
    "# Get place_id for a selection of countries\n",
    "api = tweepy.API(auth)\n",
    "\n",
    "countries = [\"USA\", \"Canada\", \"France\", \"Denmark\", \"Mexico\", \"Brazil\", \"Germany\", \"India\", \"China\", \"South Africa\", \n",
    "             \"United Kingdom\", \"Russia\", \"Australia\", \"Cuba\", \"Sweden\",\n",
    "             \"Argentina\", \"Japan\", \"Spain\", \"Italy\", \"Norway\", \"Finland\", \"UAE\"] # Last line not taken (only first 15)\n",
    "\n",
    "countries_place_id = []\n",
    "\n",
    "# i = 0\n",
    "# while i < len(countries):\n",
    "#     country = countries[i]\n",
    "\n",
    "for country in countries[:15]:\n",
    "    try:\n",
    "        # TODO Need to lang=en to this query to get the results in English, and not f***ing Danish \n",
    "        places = api.geo_search(query=country, granularity=\"country\")\n",
    "    except Exception as e:\n",
    "        print \"Rate Limit Error: %s\" % e\n",
    "        time.sleep(15 * 60 + 15)\n",
    "        continue\n",
    "        \n",
    "    for place in places:\n",
    "        place_id = place.id\n",
    "        try:\n",
    "            country_name = place.name.decode('utf-8')\n",
    "        except Exception as e:\n",
    "            country_name = place.name\n",
    "        \n",
    "        country_place_id = {\"real_name\": country, \"twitter_name\": country_name, \"place_id\": place_id}\n",
    "        countries_place_id.append(country_place_id)\n",
    "        \n",
    "#     i += 1\n",
    "\n",
    "with open('places_id.json', 'w') as f:\n",
    "    json.dump(countries_place_id, f)"
   ]
  },
  {
   "cell_type": "code",
   "execution_count": 32,
   "metadata": {
    "collapsed": false
   },
   "outputs": [
    {
     "name": "stdout",
     "output_type": "stream",
     "text": [
      "USA\n",
      "United States Minor Outlying Islands\n",
      "Canada\n",
      "Fransk Guyana\n",
      "Frankrig\n",
      "French Polynesia\n",
      "French Southern and Antarctic Lands\n",
      "Danmark\n",
      "Mexico\n",
      "Brasilien\n",
      "Tyskland\n",
      "Indien\n",
      "British Indian Ocean Territory\n",
      "中华人民共和国\n",
      "South Africa\n",
      "South Georgia and the South Sandwich Islands\n",
      "Central African Republic\n",
      "Storbritannien\n",
      "USA\n",
      "Forenede Arabiske Emirater\n",
      "United States Minor Outlying Islands\n",
      "المملكة الأردنية الهاشمية\n",
      "Saudi Arabien\n",
      "Hviderusland\n",
      "Россия\n",
      "Australia\n",
      "Cuba\n",
      "Sverige\n"
     ]
    }
   ],
   "source": [
    "for country in countries_place_id:\n",
    "    print country[\"twitter_name\"]"
   ]
  },
  {
   "cell_type": "code",
   "execution_count": 35,
   "metadata": {
    "collapsed": false
   },
   "outputs": [
    {
     "name": "stdout",
     "output_type": "stream",
     "text": [
      "2016-11-04T18:15:56.788111\n"
     ]
    }
   ],
   "source": [
    "current_time = datetime.datetime.now()\n",
    "\n",
    "print current_time.isoformat()"
   ]
  },
  {
   "cell_type": "code",
   "execution_count": 20,
   "metadata": {
    "collapsed": false
   },
   "outputs": [
    {
     "name": "stdout",
     "output_type": "stream",
     "text": [
      "[Place(_api=<tweepy.api.API object at 0x7f7f259ad7d0>, country_code=u'PA', url=u'https://api.twitter.com/1.1/geo/id/9d8ae4b0fac2036a.json', country=u'Panama', place_type=u'country', bounding_box=BoundingBox(_api=<tweepy.api.API object at 0x7f7f259ad7d0>, type=u'Polygon', coordinates=[[[-83.051445, 7.20386], [-83.051445, 9.6394858], [-77.13939, 9.6394858], [-77.13939, 7.20386], [-83.051445, 7.20386]]]), contained_within=[], centroid=[-81.48476972454017, 8.41827865], full_name=u'Panama', attributes={}, id=u'9d8ae4b0fac2036a', name=u'Panama')]\n"
     ]
    }
   ],
   "source": [
    "places = api.geo_search(query=\"Panama\", granularity=\"country\")\n",
    "print places"
   ]
  },
  {
   "cell_type": "code",
   "execution_count": 1,
   "metadata": {
    "collapsed": false
   },
   "outputs": [
    {
     "ename": "IOError",
     "evalue": "[Errno 2] No such file or directory: './queries/#Elections2016 OR #ElectionDay/2016-11-1-2016-11-2/2016-11-08T20:42:37.580399.json'",
     "output_type": "error",
     "traceback": [
      "\u001b[0;31m---------------------------------------------------------------------------\u001b[0m",
      "\u001b[0;31mIOError\u001b[0m                                   Traceback (most recent call last)",
      "\u001b[0;32m<ipython-input-1-c37d11adae65>\u001b[0m in \u001b[0;36m<module>\u001b[0;34m()\u001b[0m\n\u001b[0;32m----> 1\u001b[0;31m \u001b[0;32mwith\u001b[0m \u001b[0mopen\u001b[0m\u001b[0;34m(\u001b[0m\u001b[0;34m'./queries/'\u001b[0m \u001b[0;34m+\u001b[0m \u001b[0;34mr\"#Elections2016 OR #ElectionDay\"\u001b[0m \u001b[0;34m+\u001b[0m \u001b[0;34m'/2016-11-1-2016-11-2/2016-11-08T20:42:37.580399.json'\u001b[0m\u001b[0;34m,\u001b[0m \u001b[0;34m'r'\u001b[0m\u001b[0;34m)\u001b[0m \u001b[0;32mas\u001b[0m \u001b[0mf\u001b[0m\u001b[0;34m:\u001b[0m\u001b[0;34m\u001b[0m\u001b[0m\n\u001b[0m\u001b[1;32m      2\u001b[0m     \u001b[0md\u001b[0m \u001b[0;34m=\u001b[0m \u001b[0mjson\u001b[0m\u001b[0;34m.\u001b[0m\u001b[0mloads\u001b[0m\u001b[0;34m(\u001b[0m\u001b[0mf\u001b[0m\u001b[0;34m.\u001b[0m\u001b[0mread\u001b[0m\u001b[0;34m(\u001b[0m\u001b[0;34m)\u001b[0m\u001b[0;34m)\u001b[0m\u001b[0;34m\u001b[0m\u001b[0m\n\u001b[1;32m      3\u001b[0m \u001b[0;31m#     for k,v in d.iteritems():\u001b[0m\u001b[0;34m\u001b[0m\u001b[0;34m\u001b[0m\u001b[0m\n\u001b[1;32m      4\u001b[0m \u001b[0;31m#     jsn = json.load(f)\u001b[0m\u001b[0;34m\u001b[0m\u001b[0;34m\u001b[0m\u001b[0m\n\u001b[1;32m      5\u001b[0m \u001b[0;34m\u001b[0m\u001b[0m\n",
      "\u001b[0;31mIOError\u001b[0m: [Errno 2] No such file or directory: './queries/#Elections2016 OR #ElectionDay/2016-11-1-2016-11-2/2016-11-08T20:42:37.580399.json'"
     ]
    }
   ],
   "source": [
    "with open('./queries/' + r\"#Elections2016 OR #ElectionDay\" + '/2016-11-1-2016-11-2/2016-11-08T20:42:37.580399.json', 'r') as f:\n",
    "    d = json.loads(f.read())\n",
    "#     for k,v in d.iteritems():\n",
    "#     jsn = json.load(f)"
   ]
  },
  {
   "cell_type": "code",
   "execution_count": 32,
   "metadata": {
    "collapsed": false
   },
   "outputs": [
    {
     "data": {
      "text/plain": [
       "dict"
      ]
     },
     "execution_count": 32,
     "metadata": {},
     "output_type": "execute_result"
    }
   ],
   "source": []
  },
  {
   "cell_type": "code",
   "execution_count": null,
   "metadata": {
    "collapsed": true
   },
   "outputs": [],
   "source": []
  }
 ],
 "metadata": {
  "anaconda-cloud": {},
  "kernelspec": {
   "display_name": "Python [Root]",
   "language": "python",
   "name": "Python [Root]"
  },
  "language_info": {
   "codemirror_mode": {
    "name": "ipython",
    "version": 2
   },
   "file_extension": ".py",
   "mimetype": "text/x-python",
   "name": "python",
   "nbconvert_exporter": "python",
   "pygments_lexer": "ipython2",
   "version": "2.7.12"
  }
 },
 "nbformat": 4,
 "nbformat_minor": 0
}
