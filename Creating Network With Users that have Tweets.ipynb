{
 "cells": [
  {
   "cell_type": "markdown",
   "metadata": {},
   "source": [
    "# Let's begin"
   ]
  },
  {
   "cell_type": "code",
   "execution_count": 1,
   "metadata": {
    "collapsed": true
   },
   "outputs": [],
   "source": [
    "#import tools for twitter API\n",
    "import tweepy\n",
    "from twitter import *\n",
    "import pymongo, pprint\n",
    "from pymongo import MongoClient\n",
    "#Import everything useful for networks\n",
    "import networkx as nx\n",
    "import matplotlib.pyplot as plt\n",
    "import json\n",
    "import time\n",
    "import datetime\n",
    "import os\n",
    "import pickle\n",
    "import elections_helper as helper"
   ]
  },
  {
   "cell_type": "markdown",
   "metadata": {},
   "source": [
    "### Twitter APIs"
   ]
  },
  {
   "cell_type": "code",
   "execution_count": 2,
   "metadata": {
    "collapsed": false
   },
   "outputs": [],
   "source": [
    "properties = dict(line.strip().split('=') \n",
    "          for line in open('./properties/elections.properties') \n",
    "          if not line.startswith('#') and not line.startswith('\\n'))"
   ]
  },
  {
   "cell_type": "code",
   "execution_count": 3,
   "metadata": {
    "collapsed": false
   },
   "outputs": [],
   "source": [
    "CONSUMER_KEY = 'aF03g35xEjOm5OQuFw8PSuwLF'\n",
    "CONSUMER_SECRET ='5Ifz6t0UPa6BxaaVm7eTQF4cOe3XcpVsX535nFkaLqy5bp7ehg'\n",
    "OAUTH_TOKEN = '594338908-f0JBTAwwVGoZErJ4f1YNAgkj2gws7FQaFur4r2gs'\n",
    "OAUTH_TOKEN_SECRET = 'EOR9ptKEtAc0LyhsEOAxsyEshWdgTcJKzXS6iBln2iB6h'"
   ]
  },
  {
   "cell_type": "code",
   "execution_count": 4,
   "metadata": {
    "collapsed": true
   },
   "outputs": [],
   "source": [
    "# load our API credentials \n",
    "twitter = Twitter(\n",
    "    auth = OAuth(OAUTH_TOKEN, OAUTH_TOKEN_SECRET, CONSUMER_KEY, CONSUMER_SECRET))"
   ]
  },
  {
   "cell_type": "code",
   "execution_count": 5,
   "metadata": {
    "collapsed": true
   },
   "outputs": [],
   "source": [
    "#Credentials for tweepy (use it as complement)\n",
    "auth = tweepy.OAuthHandler(properties[\"CONSUMER_KEY\"], properties[\"CONSUMER_SECRET\"])\n",
    "auth.set_access_token(properties[\"OAUTH_TOKEN\"], properties[\"OAUTH_TOKEN_SECRET\"])\n",
    "api = tweepy.API(auth)"
   ]
  },
  {
   "cell_type": "markdown",
   "metadata": {},
   "source": [
    "### Get the users from Mongo DB"
   ]
  },
  {
   "cell_type": "markdown",
   "metadata": {},
   "source": [
    "For more efficiency we used Mongo data base to store all of our datas so they are available by anyone at anytime."
   ]
  },
  {
   "cell_type": "code",
   "execution_count": 6,
   "metadata": {
    "collapsed": false
   },
   "outputs": [
    {
     "name": "stdout",
     "output_type": "stream",
     "text": [
      "Number of users 87501\n"
     ]
    }
   ],
   "source": [
    "# Connect to MongoDB\n",
    "client = helper.setup_mongo_client(properties_file='./properties/db.properties')\n",
    "\n",
    "_, user_collection = helper.get_collections(client)\n",
    "\n",
    "print \"Number of users %s\" % user_collection.count()"
   ]
  },
  {
   "cell_type": "markdown",
   "metadata": {},
   "source": [
    "### Create the network"
   ]
  },
  {
   "cell_type": "markdown",
   "metadata": {},
   "source": [
    "Now that everything is settled we can start working on our tweet. "
   ]
  },
  {
   "cell_type": "code",
   "execution_count": 7,
   "metadata": {
    "collapsed": false
   },
   "outputs": [
    {
     "name": "stdout",
     "output_type": "stream",
     "text": [
      "Number of users 87501\n"
     ]
    }
   ],
   "source": [
    "# Create a list of user_ids\n",
    "all_user_ids = dict([(user['_id'], 1) for user in user_collection.find()])\n",
    "\n",
    "print \"Number of users %s\" % len(all_user_ids)"
   ]
  },
  {
   "cell_type": "code",
   "execution_count": 38,
   "metadata": {
    "collapsed": false
   },
   "outputs": [],
   "source": [
    "# Create the graph\n",
    "directed = nx.DiGraph()\n",
    "\n",
    "# All twitter users in the database\n",
    "users = user_collection.find()\n",
    "\n",
    "for i in users:\n",
    "    \n",
    "    _id = i[\"_id\"]\n",
    "    # We need to deal with the rate limit of twitter API\n",
    "    # It's not the best way but it works and we don't really need more\n",
    "    try:\n",
    "        #select the user name\n",
    "        user = api.get_user(_id)\n",
    "        username = user.screen_name\n",
    "\n",
    "        # perform a basic search \n",
    "        query = twitter.friends.ids(screen_name = username)\n",
    "                \n",
    "        found_ids = [user_id for user_id in query[\"ids\"] if all_user_ids.get(user_id, 0) != 0]\n",
    "\n",
    "        print \"found %d friends but only %s tweeted about the election\" % (len(query[\"ids\"]),len(found_ids))\n",
    "        \n",
    "        if len(found_ids) == 0:\n",
    "            continue\n",
    "            \n",
    "        # now we loop through them to pull out more info, in blocks of 100.\n",
    "        for n in range(0, len(found_ids), 100):\n",
    "            ids = found_ids[n:n+100]\n",
    "            \n",
    "            # create a subquery, looking up information about these users\n",
    "            subquery = twitter.users.lookup(user_id = ids)\n",
    "\n",
    "            for user_q in subquery:\n",
    "                # now print out user info, starring any users that are Verified.\n",
    "                directed.add_node(user_q[\"screen_name\"])\n",
    "                directed.add_edge(username, user_q[\"screen_name\"])\n",
    "                #print \" [%s] %s\" % (\"*\" if user[\"verified\"] else \" \", user[\"screen_name\"])\n",
    "    except Exception as e:\n",
    "        \n",
    "        dct = e.__dict__\n",
    "        \n",
    "        if dct.get('response_data',0) == 0:\n",
    "            message = dct\n",
    "            code = dct['api_code']\n",
    "        else:\n",
    "            message = dct['response_data']['errors'][0]\n",
    "            code = message['code']\n",
    "        print \"Message: %s\" % message\n",
    "        \n",
    "        if  code == 88:\n",
    "            #Sleep while we cannot access twitter\n",
    "            time.sleep(15 * 60 + 15)\n",
    "        else:\n",
    "            print \"User id: %s\" % _id\n",
    "            print \"User: %s\" % i\n",
    "            continue\n",
    "        continue"
   ]
  },
  {
   "cell_type": "code",
   "execution_count": 41,
   "metadata": {
    "collapsed": false
   },
   "outputs": [],
   "source": [
    "# Save the network\n",
    "pickle.dump(directed, open('graph2.txt', 'w'))"
   ]
  }
 ],
 "metadata": {
  "anaconda-cloud": {},
  "kernelspec": {
   "display_name": "Python [Root]",
   "language": "python",
   "name": "Python [Root]"
  },
  "language_info": {
   "codemirror_mode": {
    "name": "ipython",
    "version": 2
   },
   "file_extension": ".py",
   "mimetype": "text/x-python",
   "name": "python",
   "nbconvert_exporter": "python",
   "pygments_lexer": "ipython2",
   "version": "2.7.12"
  }
 },
 "nbformat": 4,
 "nbformat_minor": 0
}
